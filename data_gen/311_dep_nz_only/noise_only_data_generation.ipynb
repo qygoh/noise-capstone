{
 "cells": [
  {
   "cell_type": "markdown",
   "metadata": {},
   "source": [
    "# 311 Data Filtering\n",
    "#### Agency=DEP Only\n",
    "#### Complaint Types=Noise related Only\n",
    "#### Input shape: (2974191, 41)\n",
    "#### Output shape: (431986, 41)"
   ]
  },
  {
   "cell_type": "code",
   "execution_count": 1,
   "metadata": {},
   "outputs": [],
   "source": [
    "import pandas as pd\n",
    "import numpy as np\n",
    "pd.set_option('display.max_rows', 500)\n",
    "pd.set_option('display.max_columns', 500)\n",
    "pd.set_option('display.width', 1000)\n",
    "import gc\n",
    "from pprint import pprint"
   ]
  },
  {
   "cell_type": "code",
   "execution_count": 17,
   "metadata": {},
   "outputs": [],
   "source": [
    "# __DATA_FILE_PATH__ = __YOUR_PATH_HERE__\n",
    "__DATA_FILE_PATH__ = '/Users/sunghoonyang/PycharmProjects/ds_workspace/notebooks/Capstone/data/311_Service_Requests_from_2010_to_Present.csv'"
   ]
  },
  {
   "cell_type": "code",
   "execution_count": 18,
   "metadata": {},
   "outputs": [
    {
     "name": "stdout",
     "output_type": "stream",
     "text": [
      "311_Service_Requests_from_2010_to_Present.csv\r\n",
      "311_Service_Requests_from_2010_to_Present_50k.csv\r\n",
      "DEP_NTANM_NZONLY_311_Service_Requests_from_2010_to_Present.csv\r\n",
      "NOISE_ONLY_311_Service_Requests_from_2010_to_Present.csv\r\n",
      "NTANM_NZONLY_311_Service_Requests_from_2010_to_Present.csv\r\n",
      "\u001b[34mNeighborhood Tabulation Areas\u001b[m\u001b[m\r\n",
      "Neighborhood Tabulation Areas.zip\r\n"
     ]
    }
   ],
   "source": [
    "!ls ../data"
   ]
  },
  {
   "cell_type": "code",
   "execution_count": 19,
   "metadata": {},
   "outputs": [
    {
     "name": "stderr",
     "output_type": "stream",
     "text": [
      "/Users/sunghoonyang/PycharmProjects/groundwork-detection/groundwork-detection/lib/python3.6/site-packages/IPython/core/interactiveshell.py:2705: DtypeWarning: Columns (8,17,31,32,33,34,35,36,37) have mixed types. Specify dtype option on import or set low_memory=False.\n",
      "  interactivity=interactivity, compiler=compiler, result=result)\n"
     ]
    }
   ],
   "source": [
    "__RAW_DF__ = pd.read_csv(__DATA_FILE_PATH__)"
   ]
  },
  {
   "cell_type": "markdown",
   "metadata": {},
   "source": [
    "| Column Name                    | Description                                                                                                                                                                                  |\n",
    "|--------------------------------|----------------------------------------------------------------------------------------------------------------------------------------------------------------------------------------------|\n",
    "| Unique Key                     | Unique identifier of a Service Request (SR) in the open data set                                                                                                                             |\n",
    "| Created Date                   | Date SR  was created                                                                                                                                                                         |\n",
    "| Closed Date                    | Date SR was closed by responding agency                                                                                                                                                      |\n",
    "| Agency                         | Acronym of responding City Government Agency                                                                                                                                                 |\n",
    "| Agency Name                    | Full Agency name of responding City Government Agency                                                                                                                                        |\n",
    "| Complaint Type                 | This is the fist level of a hierarchy identifying the topic of the incident or condition. Complaint Type may have a corresponding Descriptor (below) or may stand alone.                     |\n",
    "| Descriptor                     | This is  associated to the Complaint Type and provides further detail on the incident or condition. Descriptor values are dependent on the Complaint Type and are not always required in SR. |\n",
    "| Status                         | Status of SR submitted                                                                                                                                                                       |\n",
    "| Due Date                       | Date when responding agency is expected to update the SR.  This is based on the Complaint Type and internal Service Level Agreements (SLAs).                                                 |\n",
    "| Resolution Action Updated Date | Date when responding agency last updated the SR.                                                                                                                                             |\n",
    "| Resolution Description         | Describes the last action taken on the SR by the responding agency.  May describe next or future steps.                                                                                      |\n",
    "| Location Type                  | Describes the type of location used in the address information                                                                                                                               |\n",
    "| Incident Zip                   | Incident location zip code provided by geo validation.                                                                                                                                       |\n",
    "| Incident Address               | House number of incident address provided by submitter.                                                                                                                                      |\n",
    "| Street Name                    | Street name of incident address provided by the submitter                                                                                                                                    |\n",
    "| Cross Street 1                 | First Cross street based on the geo validated incident location                                                                                                                              |\n",
    "| Cross Street 2                 | Second Cross Street based on the geo validated incident location                                                                                                                             |\n",
    "| Intersection Street 1          | First intersecting street based on geo validated incident location                                                                                                                           |\n",
    "| Intersection Street 2          | Second intersecting street based on geo validated incident location                                                                                                                          |\n",
    "| Address Type                   | Type of incident location information available.                                                                                                                                             |\n",
    "| City                           | City of the incident location provided by geovalidation.                                                                                                                                     |\n",
    "| Landmark                       | If the incident location is identified as a Landmark the name of the landmark will display here                                                                                              |\n",
    "| Facility Type                  | If available this field describes the type of city facility associated to the SR                                                                                                             |\n",
    "| Community Board                | Provided by geovalidation.                                                                                                                                                                   |\n",
    "| BBL                            | Borough Block and Lot provided by geovalidation.  Parcel number to identify the location of location of buildings and properties in NYC.                                                     |\n",
    "| Borough                        | Provided by the submitter and confirmed by geovalidation.                                                                                                                                    |\n",
    "| X Coordinate (State Plane      | Geo validated X coordinate of the incident location.                                                                                                                                         |\n",
    "| Y Coordinate (State Plane      | Geo validated  Y coordinate of the incident location.                                                                                                                                        |\n",
    "| Open_Data_Channel_Type         | Indicates how the SR was submitted to 311.  i.e. By Phone Online Mobile Other or Unknown.                                                                                                    |\n",
    "| Latitude                       | Geo based Lat of the incident location                                                                                                                                                       |\n",
    "| Longitude                      | Geo based Long of the incident location                                                                                                                                                      |\n",
    "| Location                       | Combination of the geo based lat & long of the incident location                                                                                                                             |\n",
    "| Park Facility Name             | If the incident location is a Parks Dept facility the Name of the facility will appear here                                                                                                  |\n",
    "| Park Borough                   | The borough of incident if it is a Parks Dept facility                                                                                                                                       |\n",
    "| Vehicle Type                   | If the incident is a taxi this field describes the type of TLC vehicle.                                                                                                                      |\n",
    "| Taxi Company Borough           | If the incident is identified as a taxi this field will display the borough of the taxi company.                                                                                             |\n",
    "| Taxi Pick Up Location          | If the incident is identified as a taxi this field displays the taxi pick up location                                                                                                        |\n",
    "| Bridge Highway Name            | If the incident is identified as a Bridge/Highway the name will be displayed here.                                                                                                           |\n",
    "| Bridge Highway Direction       | If the incident is identified as a Bridge/Highway the direction where the issue took place would be displayed here.                                                                          |\n",
    "| Road Ramp                      | If the incident location was Bridge/Highway this column differentiates if the issue was on the Road or the Ramp.                                                                             |\n",
    "| Bridge Highway Segment         | Additional information on the section of the Bridge/Highway were the incident took place.                                                                                                    |"
   ]
  },
  {
   "cell_type": "code",
   "execution_count": 5,
   "metadata": {
    "scrolled": true
   },
   "outputs": [
    {
     "data": {
      "text/html": [
       "<div>\n",
       "<style scoped>\n",
       "    .dataframe tbody tr th:only-of-type {\n",
       "        vertical-align: middle;\n",
       "    }\n",
       "\n",
       "    .dataframe tbody tr th {\n",
       "        vertical-align: top;\n",
       "    }\n",
       "\n",
       "    .dataframe thead th {\n",
       "        text-align: right;\n",
       "    }\n",
       "</style>\n",
       "<table border=\"1\" class=\"dataframe\">\n",
       "  <thead>\n",
       "    <tr style=\"text-align: right;\">\n",
       "      <th></th>\n",
       "      <th>Unique Key</th>\n",
       "      <th>Created Date</th>\n",
       "      <th>Closed Date</th>\n",
       "      <th>Agency</th>\n",
       "      <th>Agency Name</th>\n",
       "      <th>Complaint Type</th>\n",
       "      <th>Descriptor</th>\n",
       "      <th>Location Type</th>\n",
       "      <th>Incident Zip</th>\n",
       "      <th>Incident Address</th>\n",
       "      <th>Street Name</th>\n",
       "      <th>Cross Street 1</th>\n",
       "      <th>Cross Street 2</th>\n",
       "      <th>Intersection Street 1</th>\n",
       "      <th>Intersection Street 2</th>\n",
       "      <th>Address Type</th>\n",
       "      <th>City</th>\n",
       "      <th>Landmark</th>\n",
       "      <th>Facility Type</th>\n",
       "      <th>Status</th>\n",
       "      <th>Due Date</th>\n",
       "      <th>Resolution Description</th>\n",
       "      <th>Resolution Action Updated Date</th>\n",
       "      <th>Community Board</th>\n",
       "      <th>BBL</th>\n",
       "      <th>Borough</th>\n",
       "      <th>X Coordinate (State Plane)</th>\n",
       "      <th>Y Coordinate (State Plane)</th>\n",
       "      <th>Open Data Channel Type</th>\n",
       "      <th>Park Facility Name</th>\n",
       "      <th>Park Borough</th>\n",
       "      <th>Vehicle Type</th>\n",
       "      <th>Taxi Company Borough</th>\n",
       "      <th>Taxi Pick Up Location</th>\n",
       "      <th>Bridge Highway Name</th>\n",
       "      <th>Bridge Highway Direction</th>\n",
       "      <th>Road Ramp</th>\n",
       "      <th>Bridge Highway Segment</th>\n",
       "      <th>Latitude</th>\n",
       "      <th>Longitude</th>\n",
       "      <th>Location</th>\n",
       "    </tr>\n",
       "  </thead>\n",
       "  <tbody>\n",
       "    <tr>\n",
       "      <th>0</th>\n",
       "      <td>37166305</td>\n",
       "      <td>09/12/2017 05:47:08 PM</td>\n",
       "      <td>09/12/2017 07:55:03 PM</td>\n",
       "      <td>NYPD</td>\n",
       "      <td>New York City Police Department</td>\n",
       "      <td>Blocked Driveway</td>\n",
       "      <td>Partial Access</td>\n",
       "      <td>Street/Sidewalk</td>\n",
       "      <td>11234</td>\n",
       "      <td>1218 EAST 59 STREET</td>\n",
       "      <td>EAST 59 STREET</td>\n",
       "      <td>AVENUE L</td>\n",
       "      <td>AVENUE M</td>\n",
       "      <td>NaN</td>\n",
       "      <td>NaN</td>\n",
       "      <td>ADDRESS</td>\n",
       "      <td>BROOKLYN</td>\n",
       "      <td>NaN</td>\n",
       "      <td>Precinct</td>\n",
       "      <td>Closed</td>\n",
       "      <td>09/13/2017 01:47:08 AM</td>\n",
       "      <td>The Police Department issued a summons in resp...</td>\n",
       "      <td>09/12/2017 07:55:03 PM</td>\n",
       "      <td>18 BROOKLYN</td>\n",
       "      <td>3.078560e+09</td>\n",
       "      <td>BROOKLYN</td>\n",
       "      <td>1006818.0</td>\n",
       "      <td>166437.0</td>\n",
       "      <td>PHONE</td>\n",
       "      <td>Unspecified</td>\n",
       "      <td>BROOKLYN</td>\n",
       "      <td>NaN</td>\n",
       "      <td>NaN</td>\n",
       "      <td>NaN</td>\n",
       "      <td>NaN</td>\n",
       "      <td>NaN</td>\n",
       "      <td>NaN</td>\n",
       "      <td>NaN</td>\n",
       "      <td>40.623479</td>\n",
       "      <td>-73.918703</td>\n",
       "      <td>(40.62347886383544, -73.91870289162539)</td>\n",
       "    </tr>\n",
       "    <tr>\n",
       "      <th>1</th>\n",
       "      <td>37166306</td>\n",
       "      <td>09/12/2017 10:24:34 AM</td>\n",
       "      <td>09/12/2017 02:24:18 PM</td>\n",
       "      <td>NYPD</td>\n",
       "      <td>New York City Police Department</td>\n",
       "      <td>Blocked Driveway</td>\n",
       "      <td>Partial Access</td>\n",
       "      <td>Street/Sidewalk</td>\n",
       "      <td>11356</td>\n",
       "      <td>14-25 131 STREET</td>\n",
       "      <td>131 STREET</td>\n",
       "      <td>14 AVENUE</td>\n",
       "      <td>15 AVENUE</td>\n",
       "      <td>NaN</td>\n",
       "      <td>NaN</td>\n",
       "      <td>ADDRESS</td>\n",
       "      <td>COLLEGE POINT</td>\n",
       "      <td>NaN</td>\n",
       "      <td>Precinct</td>\n",
       "      <td>Closed</td>\n",
       "      <td>09/12/2017 06:24:34 PM</td>\n",
       "      <td>The Police Department responded to the complai...</td>\n",
       "      <td>09/12/2017 02:24:18 PM</td>\n",
       "      <td>07 QUEENS</td>\n",
       "      <td>4.040990e+09</td>\n",
       "      <td>QUEENS</td>\n",
       "      <td>1029234.0</td>\n",
       "      <td>225534.0</td>\n",
       "      <td>ONLINE</td>\n",
       "      <td>Unspecified</td>\n",
       "      <td>QUEENS</td>\n",
       "      <td>NaN</td>\n",
       "      <td>NaN</td>\n",
       "      <td>NaN</td>\n",
       "      <td>NaN</td>\n",
       "      <td>NaN</td>\n",
       "      <td>NaN</td>\n",
       "      <td>NaN</td>\n",
       "      <td>40.785600</td>\n",
       "      <td>-73.837559</td>\n",
       "      <td>(40.785600432446095, -73.8375586961156)</td>\n",
       "    </tr>\n",
       "    <tr>\n",
       "      <th>2</th>\n",
       "      <td>37166307</td>\n",
       "      <td>09/12/2017 10:50:34 AM</td>\n",
       "      <td>09/12/2017 09:14:16 PM</td>\n",
       "      <td>NYPD</td>\n",
       "      <td>New York City Police Department</td>\n",
       "      <td>Blocked Driveway</td>\n",
       "      <td>Partial Access</td>\n",
       "      <td>Street/Sidewalk</td>\n",
       "      <td>10461</td>\n",
       "      <td>1712 YATES AVENUE</td>\n",
       "      <td>YATES AVENUE</td>\n",
       "      <td>VAN NEST AVENUE</td>\n",
       "      <td>MORRIS PARK AVENUE</td>\n",
       "      <td>NaN</td>\n",
       "      <td>NaN</td>\n",
       "      <td>ADDRESS</td>\n",
       "      <td>BRONX</td>\n",
       "      <td>NaN</td>\n",
       "      <td>Precinct</td>\n",
       "      <td>Closed</td>\n",
       "      <td>09/12/2017 06:50:34 PM</td>\n",
       "      <td>The Police Department responded to the complai...</td>\n",
       "      <td>09/12/2017 09:14:16 PM</td>\n",
       "      <td>11 BRONX</td>\n",
       "      <td>2.041150e+09</td>\n",
       "      <td>BRONX</td>\n",
       "      <td>1025839.0</td>\n",
       "      <td>248867.0</td>\n",
       "      <td>PHONE</td>\n",
       "      <td>Unspecified</td>\n",
       "      <td>BRONX</td>\n",
       "      <td>NaN</td>\n",
       "      <td>NaN</td>\n",
       "      <td>NaN</td>\n",
       "      <td>NaN</td>\n",
       "      <td>NaN</td>\n",
       "      <td>NaN</td>\n",
       "      <td>NaN</td>\n",
       "      <td>40.849659</td>\n",
       "      <td>-73.849674</td>\n",
       "      <td>(40.849659494460184, -73.8496737290726)</td>\n",
       "    </tr>\n",
       "    <tr>\n",
       "      <th>3</th>\n",
       "      <td>37166308</td>\n",
       "      <td>09/12/2017 04:19:35 PM</td>\n",
       "      <td>09/12/2017 08:00:08 PM</td>\n",
       "      <td>NYPD</td>\n",
       "      <td>New York City Police Department</td>\n",
       "      <td>Blocked Driveway</td>\n",
       "      <td>Partial Access</td>\n",
       "      <td>Street/Sidewalk</td>\n",
       "      <td>11233</td>\n",
       "      <td>NaN</td>\n",
       "      <td>NaN</td>\n",
       "      <td>NaN</td>\n",
       "      <td>NaN</td>\n",
       "      <td>PARK PLACE</td>\n",
       "      <td>RALPH AVENUE</td>\n",
       "      <td>INTERSECTION</td>\n",
       "      <td>BROOKLYN</td>\n",
       "      <td>NaN</td>\n",
       "      <td>Precinct</td>\n",
       "      <td>Closed</td>\n",
       "      <td>09/13/2017 12:19:35 AM</td>\n",
       "      <td>The Police Department responded to the complai...</td>\n",
       "      <td>09/12/2017 08:00:08 PM</td>\n",
       "      <td>08 BROOKLYN</td>\n",
       "      <td>NaN</td>\n",
       "      <td>BROOKLYN</td>\n",
       "      <td>1005804.0</td>\n",
       "      <td>184077.0</td>\n",
       "      <td>PHONE</td>\n",
       "      <td>Unspecified</td>\n",
       "      <td>BROOKLYN</td>\n",
       "      <td>NaN</td>\n",
       "      <td>NaN</td>\n",
       "      <td>NaN</td>\n",
       "      <td>NaN</td>\n",
       "      <td>NaN</td>\n",
       "      <td>NaN</td>\n",
       "      <td>NaN</td>\n",
       "      <td>40.671899</td>\n",
       "      <td>-73.922299</td>\n",
       "      <td>(40.671899351230536, -73.92229927418927)</td>\n",
       "    </tr>\n",
       "    <tr>\n",
       "      <th>4</th>\n",
       "      <td>37166309</td>\n",
       "      <td>09/12/2017 08:14:49 AM</td>\n",
       "      <td>09/12/2017 05:50:59 PM</td>\n",
       "      <td>NYPD</td>\n",
       "      <td>New York City Police Department</td>\n",
       "      <td>Blocked Driveway</td>\n",
       "      <td>Partial Access</td>\n",
       "      <td>Street/Sidewalk</td>\n",
       "      <td>11101</td>\n",
       "      <td>40-26 28 STREET</td>\n",
       "      <td>28 STREET</td>\n",
       "      <td>40 AVENUE</td>\n",
       "      <td>41 AVENUE</td>\n",
       "      <td>NaN</td>\n",
       "      <td>NaN</td>\n",
       "      <td>ADDRESS</td>\n",
       "      <td>LONG ISLAND CITY</td>\n",
       "      <td>NaN</td>\n",
       "      <td>Precinct</td>\n",
       "      <td>Closed</td>\n",
       "      <td>09/12/2017 04:14:49 PM</td>\n",
       "      <td>The Police Department responded and upon arriv...</td>\n",
       "      <td>09/12/2017 05:50:59 PM</td>\n",
       "      <td>01 QUEENS</td>\n",
       "      <td>4.004050e+09</td>\n",
       "      <td>QUEENS</td>\n",
       "      <td>1001761.0</td>\n",
       "      <td>213349.0</td>\n",
       "      <td>ONLINE</td>\n",
       "      <td>Unspecified</td>\n",
       "      <td>QUEENS</td>\n",
       "      <td>NaN</td>\n",
       "      <td>NaN</td>\n",
       "      <td>NaN</td>\n",
       "      <td>NaN</td>\n",
       "      <td>NaN</td>\n",
       "      <td>NaN</td>\n",
       "      <td>NaN</td>\n",
       "      <td>40.752253</td>\n",
       "      <td>-73.936798</td>\n",
       "      <td>(40.75225291765778, -73.93679787652677)</td>\n",
       "    </tr>\n",
       "  </tbody>\n",
       "</table>\n",
       "</div>"
      ],
      "text/plain": [
       "   Unique Key            Created Date             Closed Date Agency                      Agency Name    Complaint Type      Descriptor    Location Type Incident Zip     Incident Address     Street Name   Cross Street 1      Cross Street 2 Intersection Street 1 Intersection Street 2  Address Type              City Landmark Facility Type  Status                Due Date                             Resolution Description Resolution Action Updated Date Community Board           BBL   Borough  X Coordinate (State Plane)  Y Coordinate (State Plane) Open Data Channel Type Park Facility Name Park Borough Vehicle Type Taxi Company Borough Taxi Pick Up Location Bridge Highway Name Bridge Highway Direction Road Ramp Bridge Highway Segment   Latitude  Longitude                                  Location\n",
       "0    37166305  09/12/2017 05:47:08 PM  09/12/2017 07:55:03 PM   NYPD  New York City Police Department  Blocked Driveway  Partial Access  Street/Sidewalk        11234  1218 EAST 59 STREET  EAST 59 STREET         AVENUE L            AVENUE M                   NaN                   NaN       ADDRESS          BROOKLYN      NaN      Precinct  Closed  09/13/2017 01:47:08 AM  The Police Department issued a summons in resp...         09/12/2017 07:55:03 PM     18 BROOKLYN  3.078560e+09  BROOKLYN                   1006818.0                    166437.0                  PHONE        Unspecified     BROOKLYN          NaN                  NaN                   NaN                 NaN                      NaN       NaN                    NaN  40.623479 -73.918703   (40.62347886383544, -73.91870289162539)\n",
       "1    37166306  09/12/2017 10:24:34 AM  09/12/2017 02:24:18 PM   NYPD  New York City Police Department  Blocked Driveway  Partial Access  Street/Sidewalk        11356     14-25 131 STREET      131 STREET        14 AVENUE           15 AVENUE                   NaN                   NaN       ADDRESS     COLLEGE POINT      NaN      Precinct  Closed  09/12/2017 06:24:34 PM  The Police Department responded to the complai...         09/12/2017 02:24:18 PM       07 QUEENS  4.040990e+09    QUEENS                   1029234.0                    225534.0                 ONLINE        Unspecified       QUEENS          NaN                  NaN                   NaN                 NaN                      NaN       NaN                    NaN  40.785600 -73.837559   (40.785600432446095, -73.8375586961156)\n",
       "2    37166307  09/12/2017 10:50:34 AM  09/12/2017 09:14:16 PM   NYPD  New York City Police Department  Blocked Driveway  Partial Access  Street/Sidewalk        10461    1712 YATES AVENUE    YATES AVENUE  VAN NEST AVENUE  MORRIS PARK AVENUE                   NaN                   NaN       ADDRESS             BRONX      NaN      Precinct  Closed  09/12/2017 06:50:34 PM  The Police Department responded to the complai...         09/12/2017 09:14:16 PM        11 BRONX  2.041150e+09     BRONX                   1025839.0                    248867.0                  PHONE        Unspecified        BRONX          NaN                  NaN                   NaN                 NaN                      NaN       NaN                    NaN  40.849659 -73.849674   (40.849659494460184, -73.8496737290726)\n",
       "3    37166308  09/12/2017 04:19:35 PM  09/12/2017 08:00:08 PM   NYPD  New York City Police Department  Blocked Driveway  Partial Access  Street/Sidewalk        11233                  NaN             NaN              NaN                 NaN            PARK PLACE          RALPH AVENUE  INTERSECTION          BROOKLYN      NaN      Precinct  Closed  09/13/2017 12:19:35 AM  The Police Department responded to the complai...         09/12/2017 08:00:08 PM     08 BROOKLYN           NaN  BROOKLYN                   1005804.0                    184077.0                  PHONE        Unspecified     BROOKLYN          NaN                  NaN                   NaN                 NaN                      NaN       NaN                    NaN  40.671899 -73.922299  (40.671899351230536, -73.92229927418927)\n",
       "4    37166309  09/12/2017 08:14:49 AM  09/12/2017 05:50:59 PM   NYPD  New York City Police Department  Blocked Driveway  Partial Access  Street/Sidewalk        11101      40-26 28 STREET       28 STREET        40 AVENUE           41 AVENUE                   NaN                   NaN       ADDRESS  LONG ISLAND CITY      NaN      Precinct  Closed  09/12/2017 04:14:49 PM  The Police Department responded and upon arriv...         09/12/2017 05:50:59 PM       01 QUEENS  4.004050e+09    QUEENS                   1001761.0                    213349.0                 ONLINE        Unspecified       QUEENS          NaN                  NaN                   NaN                 NaN                      NaN       NaN                    NaN  40.752253 -73.936798   (40.75225291765778, -73.93679787652677)"
      ]
     },
     "execution_count": 5,
     "metadata": {},
     "output_type": "execute_result"
    }
   ],
   "source": [
    "__RAW_DF__.head()"
   ]
  },
  {
   "cell_type": "code",
   "execution_count": 20,
   "metadata": {},
   "outputs": [
    {
     "data": {
      "text/plain": [
       "1586114"
      ]
     },
     "execution_count": 20,
     "metadata": {},
     "output_type": "execute_result"
    }
   ],
   "source": [
    "__RAW_DF__[__RAW_DF__.Agency == 'DEP'].shape[0]"
   ]
  },
  {
   "cell_type": "code",
   "execution_count": 21,
   "metadata": {
    "scrolled": true
   },
   "outputs": [
    {
     "data": {
      "text/plain": [
       "['Noise - Vehicle',\n",
       " 'Noise - Street/Sidewalk',\n",
       " 'Noise - Commercial',\n",
       " 'Noise - Residential',\n",
       " 'Noise',\n",
       " 'Noise - Park',\n",
       " 'Noise - Helicopter',\n",
       " 'Noise - House of Worship',\n",
       " 'Collection Truck Noise',\n",
       " 'Noise Survey']"
      ]
     },
     "execution_count": 21,
     "metadata": {},
     "output_type": "execute_result"
    }
   ],
   "source": [
    "__NOISE_COMPLAINT_TYPE_LABELS__ = [e for e in __RAW_DF__['Complaint Type'].unique().tolist() if 'noise' in e.lower()]\n",
    "__NOISE_COMPLAINT_TYPE_LABELS__"
   ]
  },
  {
   "cell_type": "code",
   "execution_count": 22,
   "metadata": {},
   "outputs": [],
   "source": [
    "dep_only = __RAW_DF__[__RAW_DF__.Agency == 'DEP'].copy()"
   ]
  },
  {
   "cell_type": "code",
   "execution_count": 23,
   "metadata": {},
   "outputs": [],
   "source": [
    "__raw_df_noise_only__ = dep_only[dep_only['Complaint Type'].isin(__NOISE_COMPLAINT_TYPE_LABELS__)]"
   ]
  },
  {
   "cell_type": "code",
   "execution_count": 24,
   "metadata": {},
   "outputs": [
    {
     "data": {
      "text/plain": [
       "(431986, 41)"
      ]
     },
     "execution_count": 24,
     "metadata": {},
     "output_type": "execute_result"
    }
   ],
   "source": [
    "__raw_df_noise_only__.shape"
   ]
  },
  {
   "cell_type": "code",
   "execution_count": 25,
   "metadata": {},
   "outputs": [],
   "source": [
    "__raw_df_noise_only__.to_csv(\n",
    "    '/Users/sunghoonyang/PycharmProjects/ds_workspace/notebooks/Capstone/data/DEP_NTANM_NZONLY_311_Service_Requests_from_2010_to_Present.csv'\n",
    "    , index=False\n",
    ")"
   ]
  },
  {
   "cell_type": "code",
   "execution_count": 26,
   "metadata": {},
   "outputs": [
    {
     "data": {
      "text/plain": [
       "0"
      ]
     },
     "execution_count": 26,
     "metadata": {},
     "output_type": "execute_result"
    }
   ],
   "source": [
    "gc.collect()"
   ]
  },
  {
   "cell_type": "code",
   "execution_count": null,
   "metadata": {},
   "outputs": [],
   "source": [
    "# End of notebook"
   ]
  }
 ],
 "metadata": {
  "kernelspec": {
   "display_name": "Python 3",
   "language": "python",
   "name": "python3"
  },
  "language_info": {
   "codemirror_mode": {
    "name": "ipython",
    "version": 3
   },
   "file_extension": ".py",
   "mimetype": "text/x-python",
   "name": "python",
   "nbconvert_exporter": "python",
   "pygments_lexer": "ipython3",
   "version": "3.6.5"
  }
 },
 "nbformat": 4,
 "nbformat_minor": 2
}
