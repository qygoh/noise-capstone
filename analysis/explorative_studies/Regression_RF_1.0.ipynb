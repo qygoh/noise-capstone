{
 "cells": [
  {
   "cell_type": "markdown",
   "metadata": {},
   "source": [
    "# RFR - 2018 Data Only"
   ]
  },
  {
   "cell_type": "code",
   "execution_count": 1,
   "metadata": {},
   "outputs": [],
   "source": [
    "import os\n",
    "import pandas as pd\n",
    "import numpy as np\n",
    "import datetime\n",
    "import urllib\n",
    "import requests\n",
    "from sodapy import Socrata\n",
    "import geopandas as gp\n",
    "import matplotlib.pyplot as plt\n",
    "\n",
    "import shapely\n",
    "import geopandas as gp\n",
    "from geopandas import GeoDataFrame\n",
    "from fiona.crs import from_epsg\n",
    "from shapely.geometry import Point, MultiPoint\n",
    "import io\n",
    "from geopandas.tools import sjoin\n",
    "from shapely.ops import nearest_points\n",
    "\n",
    "\n",
    "import warnings\n",
    "warnings.filterwarnings(action = 'once')"
   ]
  },
  {
   "cell_type": "markdown",
   "metadata": {},
   "source": [
    "### Read in Zoning"
   ]
  },
  {
   "cell_type": "code",
   "execution_count": 2,
   "metadata": {},
   "outputs": [],
   "source": [
    "zoning = gp.GeoDataFrame.from_file('nyczoning/nyzd.shp')\n",
    "zoning.to_crs(epsg=4326, inplace=True)"
   ]
  },
  {
   "cell_type": "code",
   "execution_count": 3,
   "metadata": {},
   "outputs": [],
   "source": [
    "def simplifying_zone(x):\n",
    "    if x in ['PLAYGROUND','PARK','PUBLIC PLACE','BALL FIELD' ,'BPC']:\n",
    "        return 'P'\n",
    "    if '/' in x:\n",
    "        return 'O'\n",
    "    if x[:3] == 'R10':\n",
    "        return x[:3]\n",
    "    else:\n",
    "        return x[:2]"
   ]
  },
  {
   "cell_type": "code",
   "execution_count": 4,
   "metadata": {},
   "outputs": [],
   "source": [
    "zoning['simple_zone'] = zoning['ZONEDIST'].map(simplifying_zone)\n"
   ]
  },
  {
   "cell_type": "code",
   "execution_count": 5,
   "metadata": {},
   "outputs": [],
   "source": [
    "zoning.drop(columns=['ZONEDIST','Shape_Leng','Shape_Area'],inplace=True)"
   ]
  },
  {
   "cell_type": "markdown",
   "metadata": {},
   "source": [
    "### Read in DOB Permits & Census Block Groups"
   ]
  },
  {
   "cell_type": "code",
   "execution_count": 6,
   "metadata": {},
   "outputs": [],
   "source": [
    "constr_cbg = gp.GeoDataFrame.from_file('Data/permits_blkgrp/permits.shp')\n",
    "constr_cbg.to_crs(epsg=4326, inplace=True)\n"
   ]
  },
  {
   "cell_type": "markdown",
   "metadata": {},
   "source": [
    "### Read in Census Block Group Shapefile"
   ]
  },
  {
   "cell_type": "code",
   "execution_count": 7,
   "metadata": {},
   "outputs": [],
   "source": [
    "cbg = gp.GeoDataFrame.from_file('Data/nyc_census_clipped/nyc_census_clipped.shp')"
   ]
  },
  {
   "cell_type": "code",
   "execution_count": 8,
   "metadata": {},
   "outputs": [],
   "source": [
    "cbg.drop(columns=['OBJECTID', 'STATEFP', 'COUNTYFP', 'TRACTCE', 'BLKGRPCE','NAMELSAD', 'MTFCC', 'FUNCSTAT', 'ALAND', 'AWATER', 'INTPTLAT',\n",
    "       'INTPTLON','GEOID_1', 'B02001e1', 'B02001m1', 'B02001e2', 'B02001m2', 'B02001e3',\n",
    "       'B02001m3', 'B02001e4', 'B02001m4', 'B02001e5', 'B02001m5', 'B02001e6',\n",
    "       'B02001m6', 'B02001e7', 'B02001m7', 'B02001e8', 'B02001m8', 'B02001e9',\n",
    "       'B02001m9', 'B02001e10', 'B02001m10', 'B02008e1', 'B02008m1',\n",
    "       'B02009e1', 'B02009m1', 'B02010e1', 'B02010m1', 'B02011e1', 'B02011m1',\n",
    "       'B02012e1', 'B02012m1', 'B02013e1', 'B02013m1', 'C02003e1', 'C02003m1',\n",
    "       'C02003e2', 'C02003m2', 'C02003e3', 'C02003m3', 'C02003e4', 'C02003m4',\n",
    "       'C02003e5', 'C02003m5', 'C02003e6', 'C02003m6', 'C02003e7', 'C02003m7',\n",
    "       'C02003e8', 'C02003m8', 'C02003e9', 'C02003m9', 'C02003e10',\n",
    "       'C02003m10', 'C02003e11', 'C02003m11', 'C02003e12', 'C02003m12',\n",
    "       'C02003e13', 'C02003m13', 'C02003e14', 'C02003m14', 'C02003e15',\n",
    "       'C02003m15', 'C02003e16', 'C02003m16', 'C02003e17', 'C02003m17',\n",
    "       'C02003e18', 'C02003m18', 'C02003e19', 'C02003m19', 'OBJECTID_1'],inplace=True)"
   ]
  },
  {
   "cell_type": "code",
   "execution_count": 9,
   "metadata": {},
   "outputs": [],
   "source": [
    "cbg = cbg.merge(constr_cbg.groupby('GEOID_Data')['total_popu', 'Count_', 'GEOID', 'per_capita',\n",
    "       'white_po_1', 'african__1', 'asian_po_1', 'native_h_1', 'american_1'].mean().reset_index())"
   ]
  },
  {
   "cell_type": "code",
   "execution_count": 10,
   "metadata": {},
   "outputs": [],
   "source": [
    "cbg.drop(columns=['GEOID','Shape_Leng','Shape_Area'],inplace=True)"
   ]
  },
  {
   "cell_type": "markdown",
   "metadata": {},
   "source": [
    "### Construction Permits"
   ]
  },
  {
   "cell_type": "code",
   "execution_count": 12,
   "metadata": {},
   "outputs": [],
   "source": [
    "constr_cbg = constr_cbg[(constr_cbg.Job_Type == 'NB') | \n",
    "                        (constr_cbg.Job_Type == 'A1') | \n",
    "                        (constr_cbg.Job_Type == 'DM')][[ 'Job_Type', \n",
    "                        'Work_Type', 'Permit_Typ','Issuance_D', 'Expiration', 'Job_Start_', 'JobStartDa',\n",
    "       'ExpireDate',  'IssueDate', 'ExpireYear', 'GEOID_Data']]\n"
   ]
  },
  {
   "cell_type": "markdown",
   "metadata": {},
   "source": [
    "### Weather"
   ]
  },
  {
   "cell_type": "code",
   "execution_count": 8,
   "metadata": {},
   "outputs": [],
   "source": [
    "weather = pd.read_csv('Data/2018weather.csv', usecols = ['Date','Avg_T','PRECIP',\n",
    "       'NEW_SNOW'])"
   ]
  },
  {
   "cell_type": "code",
   "execution_count": 9,
   "metadata": {},
   "outputs": [],
   "source": [
    "def clean_precip(x):\n",
    "    try:\n",
    "        return float(x)\n",
    "    except:\n",
    "        return 0"
   ]
  },
  {
   "cell_type": "code",
   "execution_count": 10,
   "metadata": {},
   "outputs": [
    {
     "data": {
      "text/html": [
       "<div>\n",
       "<style scoped>\n",
       "    .dataframe tbody tr th:only-of-type {\n",
       "        vertical-align: middle;\n",
       "    }\n",
       "\n",
       "    .dataframe tbody tr th {\n",
       "        vertical-align: top;\n",
       "    }\n",
       "\n",
       "    .dataframe thead th {\n",
       "        text-align: right;\n",
       "    }\n",
       "</style>\n",
       "<table border=\"1\" class=\"dataframe\">\n",
       "  <thead>\n",
       "    <tr style=\"text-align: right;\">\n",
       "      <th></th>\n",
       "      <th>Date</th>\n",
       "      <th>Avg_T</th>\n",
       "      <th>PRECIP</th>\n",
       "      <th>NEW_SNOW</th>\n",
       "    </tr>\n",
       "  </thead>\n",
       "  <tbody>\n",
       "    <tr>\n",
       "      <th>0</th>\n",
       "      <td>2018-01-01</td>\n",
       "      <td>13.0</td>\n",
       "      <td>0.00</td>\n",
       "      <td>0.0</td>\n",
       "    </tr>\n",
       "    <tr>\n",
       "      <th>1</th>\n",
       "      <td>2018-01-02</td>\n",
       "      <td>19.5</td>\n",
       "      <td>0.00</td>\n",
       "      <td>0.0</td>\n",
       "    </tr>\n",
       "    <tr>\n",
       "      <th>2</th>\n",
       "      <td>2018-01-03</td>\n",
       "      <td>23.0</td>\n",
       "      <td>0.00</td>\n",
       "      <td>0.0</td>\n",
       "    </tr>\n",
       "    <tr>\n",
       "      <th>3</th>\n",
       "      <td>2018-01-04</td>\n",
       "      <td>24.0</td>\n",
       "      <td>0.76</td>\n",
       "      <td>9.8</td>\n",
       "    </tr>\n",
       "    <tr>\n",
       "      <th>4</th>\n",
       "      <td>2018-01-05</td>\n",
       "      <td>14.0</td>\n",
       "      <td>0.00</td>\n",
       "      <td>0.0</td>\n",
       "    </tr>\n",
       "    <tr>\n",
       "      <th>5</th>\n",
       "      <td>2018-01-06</td>\n",
       "      <td>9.5</td>\n",
       "      <td>0.00</td>\n",
       "      <td>0.0</td>\n",
       "    </tr>\n",
       "    <tr>\n",
       "      <th>6</th>\n",
       "      <td>2018-01-07</td>\n",
       "      <td>11.5</td>\n",
       "      <td>0.00</td>\n",
       "      <td>0.0</td>\n",
       "    </tr>\n",
       "    <tr>\n",
       "      <th>7</th>\n",
       "      <td>2018-01-08</td>\n",
       "      <td>24.0</td>\n",
       "      <td>0.01</td>\n",
       "      <td>0.0</td>\n",
       "    </tr>\n",
       "    <tr>\n",
       "      <th>8</th>\n",
       "      <td>2018-01-09</td>\n",
       "      <td>37.0</td>\n",
       "      <td>0.00</td>\n",
       "      <td>0.0</td>\n",
       "    </tr>\n",
       "    <tr>\n",
       "      <th>9</th>\n",
       "      <td>2018-01-10</td>\n",
       "      <td>36.5</td>\n",
       "      <td>0.00</td>\n",
       "      <td>0.0</td>\n",
       "    </tr>\n",
       "    <tr>\n",
       "      <th>10</th>\n",
       "      <td>2018-01-11</td>\n",
       "      <td>47.0</td>\n",
       "      <td>0.00</td>\n",
       "      <td>0.0</td>\n",
       "    </tr>\n",
       "    <tr>\n",
       "      <th>11</th>\n",
       "      <td>2018-01-12</td>\n",
       "      <td>52.5</td>\n",
       "      <td>0.54</td>\n",
       "      <td>0.0</td>\n",
       "    </tr>\n",
       "    <tr>\n",
       "      <th>12</th>\n",
       "      <td>2018-01-13</td>\n",
       "      <td>38.5</td>\n",
       "      <td>0.05</td>\n",
       "      <td>0.0</td>\n",
       "    </tr>\n",
       "    <tr>\n",
       "      <th>13</th>\n",
       "      <td>2018-01-14</td>\n",
       "      <td>20.0</td>\n",
       "      <td>0.00</td>\n",
       "      <td>0.0</td>\n",
       "    </tr>\n",
       "    <tr>\n",
       "      <th>14</th>\n",
       "      <td>2018-01-15</td>\n",
       "      <td>23.0</td>\n",
       "      <td>0.00</td>\n",
       "      <td>0.0</td>\n",
       "    </tr>\n",
       "    <tr>\n",
       "      <th>15</th>\n",
       "      <td>2018-01-16</td>\n",
       "      <td>30.5</td>\n",
       "      <td>0.00</td>\n",
       "      <td>0.0</td>\n",
       "    </tr>\n",
       "    <tr>\n",
       "      <th>16</th>\n",
       "      <td>2018-01-17</td>\n",
       "      <td>29.0</td>\n",
       "      <td>0.19</td>\n",
       "      <td>0.4</td>\n",
       "    </tr>\n",
       "    <tr>\n",
       "      <th>17</th>\n",
       "      <td>2018-01-18</td>\n",
       "      <td>25.0</td>\n",
       "      <td>0.00</td>\n",
       "      <td>0.0</td>\n",
       "    </tr>\n",
       "    <tr>\n",
       "      <th>18</th>\n",
       "      <td>2018-01-19</td>\n",
       "      <td>32.5</td>\n",
       "      <td>0.00</td>\n",
       "      <td>0.0</td>\n",
       "    </tr>\n",
       "    <tr>\n",
       "      <th>19</th>\n",
       "      <td>2018-01-20</td>\n",
       "      <td>45.0</td>\n",
       "      <td>0.00</td>\n",
       "      <td>0.0</td>\n",
       "    </tr>\n",
       "  </tbody>\n",
       "</table>\n",
       "</div>"
      ],
      "text/plain": [
       "          Date  Avg_T  PRECIP  NEW_SNOW\n",
       "0   2018-01-01   13.0    0.00       0.0\n",
       "1   2018-01-02   19.5    0.00       0.0\n",
       "2   2018-01-03   23.0    0.00       0.0\n",
       "3   2018-01-04   24.0    0.76       9.8\n",
       "4   2018-01-05   14.0    0.00       0.0\n",
       "5   2018-01-06    9.5    0.00       0.0\n",
       "6   2018-01-07   11.5    0.00       0.0\n",
       "7   2018-01-08   24.0    0.01       0.0\n",
       "8   2018-01-09   37.0    0.00       0.0\n",
       "9   2018-01-10   36.5    0.00       0.0\n",
       "10  2018-01-11   47.0    0.00       0.0\n",
       "11  2018-01-12   52.5    0.54       0.0\n",
       "12  2018-01-13   38.5    0.05       0.0\n",
       "13  2018-01-14   20.0    0.00       0.0\n",
       "14  2018-01-15   23.0    0.00       0.0\n",
       "15  2018-01-16   30.5    0.00       0.0\n",
       "16  2018-01-17   29.0    0.19       0.4\n",
       "17  2018-01-18   25.0    0.00       0.0\n",
       "18  2018-01-19   32.5    0.00       0.0\n",
       "19  2018-01-20   45.0    0.00       0.0"
      ]
     },
     "execution_count": 10,
     "metadata": {},
     "output_type": "execute_result"
    }
   ],
   "source": [
    "weather['Date']=pd.to_datetime(weather['Date'])\n",
    "weather['Date'] = weather['Date'].apply(lambda x: x.date())\n",
    "weather['PRECIP'] = weather['PRECIP'].apply(clean_precip)\n",
    "weather['NEW_SNOW'] = weather['NEW_SNOW'].apply(clean_precip)\n",
    "weather.head()"
   ]
  },
  {
   "cell_type": "markdown",
   "metadata": {},
   "source": [
    "### Read in Pluto - Census Merged Shapefile"
   ]
  },
  {
   "cell_type": "raw",
   "metadata": {},
   "source": [
    "cbg = gp.GeoDataFrame.from_file('Data/Pluto_Census_Merged/pluto_census_bk.shp')\n",
    "\n",
    "cbg.drop(columns=['OBJECTID', 'Join_Count', 'TARGET_FID', 'JOIN_FID', 'FID_pluto_',\n",
    "       'Borough', 'Block', 'Lot', 'CD', 'CT2010','CB2010', 'SchoolDist', 'Council', 'ZipCode', 'FireComp', 'PolicePrct',\n",
    "       'HealthCent', 'HealthArea', 'Sanitboro', 'SanitDistr','SanitSub', 'Address', 'ZoneDist2', 'ZoneDist3',\n",
    "       'ZoneDist4','Overlay2', 'SPDist1', 'SPDist2', 'SPDist3',\n",
    "       'LtdHeight', 'SplitZone', 'Easements',\n",
    "       'OwnerType', 'OwnerName','GarageArea', 'StrgeArea', 'FactryArea',\n",
    "       'OtherArea', 'AreaSource', 'NumBldgs','UnitsTotal', 'LotFront', 'LotDepth', 'BldgFront', 'BldgDepth', 'Ext',\n",
    "       'ProxCode', 'IrrLotCode','BsmtCode', 'AssessLand',\n",
    "       'AssessTot', 'ExemptLand', 'ExemptTot','YearAlter1',\n",
    "       'YearAlter2', 'HistDist', 'Landmark', 'BuiltFAR', 'ResidFAR', 'CommFAR',\n",
    "       'FacilFAR', 'BoroCode', 'CondoNo', 'Tract2010', 'XCoord',\n",
    "       'YCoord', 'ZoneMap', 'ZMCode', 'Sanborn', 'TaxMap', 'EDesigNum',\n",
    "       'APPBBL', 'APPDate', 'PLUTOMapID', 'FIRM07_FLA', 'PFIRM15_FL',\n",
    "       'Version', 'Shape_Leng', 'BoroCode_1',],inplace=True)\n"
   ]
  },
  {
   "cell_type": "markdown",
   "metadata": {},
   "source": [
    "### Complaints"
   ]
  },
  {
   "cell_type": "code",
   "execution_count": 15,
   "metadata": {},
   "outputs": [
    {
     "name": "stderr",
     "output_type": "stream",
     "text": [
      "/Users/zoemartiniak/anaconda3/lib/python3.6/site-packages/IPython/core/interactiveshell.py:2785: DtypeWarning: Columns (12,20) have mixed types. Specify dtype option on import or set low_memory=False.\n",
      "  interactivity=interactivity, compiler=compiler, result=result)\n"
     ]
    }
   ],
   "source": [
    "complaints = pd.read_csv('Data/311DEPcomplaints.csv', usecols=['address_type','borough','city',\n",
    "       'closed_date', 'community_board','created_date',\n",
    "       'cross_street_1', 'cross_street_2', 'descriptor', 'due_date',\n",
    "       'facility_type', 'incident_address', 'incident_zip',\n",
    "       'intersection_street_1', 'intersection_street_2', 'latitude',\n",
    "       'location_type', 'longitude', 'resolution_action_updated_date',\n",
    "       'resolution_description', 'status', 'street_name', 'unique_key'])"
   ]
  },
  {
   "cell_type": "markdown",
   "metadata": {},
   "source": [
    "complaints.dropna(subset=['longitude', 'latitude'],inplace=True)\n",
    "complaints['createdate'] = pd.to_datetime(complaints['created_date'])\n",
    "complaints = complaints[(complaints['createdate'] >= pd.Timestamp(2018,1,1)) &\n",
    "                        (complaints['createdate'] < pd.Timestamp(2019,1,1))]"
   ]
  },
  {
   "cell_type": "code",
   "execution_count": 16,
   "metadata": {},
   "outputs": [],
   "source": [
    "complaints.dropna(subset=['longitude', 'latitude'],inplace=True)\n",
    "complaints['createdate'] = pd.to_datetime(complaints['created_date'])\n",
    "complaints = complaints[complaints.createdate >= datetime.datetime(2018,1,1)]\n",
    "complaints = complaints[complaints.createdate < datetime.datetime(2019,1,1)]\n",
    "complaints['lonlat']=list(zip(complaints.longitude.astype(float), complaints.latitude.astype(float)))\n",
    "complaints['geometry']=complaints[['lonlat']].applymap(lambda x:shapely.geometry.Point(x))\n",
    "crs = {'init':'epsg:4326', 'no_defs': True}\n",
    "complaints = gp.GeoDataFrame(complaints, crs=crs, geometry=complaints['geometry'])\n"
   ]
  },
  {
   "cell_type": "code",
   "execution_count": 17,
   "metadata": {},
   "outputs": [],
   "source": [
    "complaints.drop(columns=['address_type', 'borough', 'city', 'closed_date', 'community_board',\n",
    "       'created_date', 'cross_street_1', 'cross_street_2','due_date', 'facility_type', 'incident_address', 'incident_zip',\n",
    "       'intersection_street_1', 'intersection_street_2', 'latitude',\n",
    "       'location_type', 'longitude', 'resolution_action_updated_date',\n",
    "                         'status', 'street_name', 'unique_key'],inplace=True)\n",
    "\n"
   ]
  },
  {
   "cell_type": "code",
   "execution_count": 18,
   "metadata": {},
   "outputs": [],
   "source": [
    "def TOD_shifts(x):\n",
    "    if x.hour <=6:\n",
    "        return 'M'\n",
    "    if x.hour >6 & x.hour<19:\n",
    "        return 'D'\n",
    "    if x.hour >=19 :\n",
    "        return 'N'"
   ]
  },
  {
   "cell_type": "code",
   "execution_count": 19,
   "metadata": {},
   "outputs": [],
   "source": [
    "complaints['Date'] =  complaints.createdate.apply(lambda x: x.date())"
   ]
  },
  {
   "cell_type": "code",
   "execution_count": 20,
   "metadata": {},
   "outputs": [],
   "source": [
    "complaints['TOD'] = complaints.createdate.apply(TOD_shifts)"
   ]
  },
  {
   "cell_type": "markdown",
   "metadata": {},
   "source": [
    "## JOIN DATA"
   ]
  },
  {
   "cell_type": "code",
   "execution_count": 21,
   "metadata": {},
   "outputs": [],
   "source": [
    "complaints = sjoin(complaints,zoning).drop(columns='index_right')"
   ]
  },
  {
   "cell_type": "code",
   "execution_count": 22,
   "metadata": {},
   "outputs": [
    {
     "name": "stderr",
     "output_type": "stream",
     "text": [
      "/Users/zoemartiniak/anaconda3/lib/python3.6/site-packages/geopandas/tools/sjoin.py:44: UserWarning: CRS of frames being joined does not match!\n",
      "  warn('CRS of frames being joined does not match!')\n"
     ]
    }
   ],
   "source": [
    "complaints = sjoin(complaints, cbg).drop(columns=['createdate','resolution_description',\n",
    "                                                 'lonlat','index_right'])"
   ]
  },
  {
   "cell_type": "code",
   "execution_count": 23,
   "metadata": {},
   "outputs": [],
   "source": [
    "complaints.rename(columns={'day':'Date'}, inplace=True)"
   ]
  },
  {
   "cell_type": "code",
   "execution_count": 24,
   "metadata": {},
   "outputs": [],
   "source": [
    "complaints = complaints.merge(weather, on='Date')"
   ]
  },
  {
   "cell_type": "code",
   "execution_count": 27,
   "metadata": {},
   "outputs": [],
   "source": [
    "zones_cbg = pd.DataFrame(complaints.groupby(['GEOID_Data','Date'])['simple_zone'].agg(pd.Series.mode))\n"
   ]
  },
  {
   "cell_type": "code",
   "execution_count": 28,
   "metadata": {},
   "outputs": [],
   "source": [
    "import numpy\n",
    "def takeOne(x):\n",
    "    if type(x) == numpy.ndarray:\n",
    "        return x[0]\n",
    "    else:\n",
    "        return x"
   ]
  },
  {
   "cell_type": "code",
   "execution_count": 29,
   "metadata": {},
   "outputs": [],
   "source": [
    "zones_cbg['simple_zone'] = zones_cbg['simple_zone'].apply(takeOne)"
   ]
  },
  {
   "cell_type": "code",
   "execution_count": 30,
   "metadata": {},
   "outputs": [],
   "source": [
    "complaints = complaints.groupby(['GEOID_Data','Date']).sum()"
   ]
  },
  {
   "cell_type": "code",
   "execution_count": 33,
   "metadata": {},
   "outputs": [],
   "source": [
    "complaints = complaints.merge(zones_cbg, on=['GEOID_Data','Date'])"
   ]
  },
  {
   "cell_type": "code",
   "execution_count": null,
   "metadata": {},
   "outputs": [],
   "source": [
    "complaints = pd.get_dummies(complaints,'simple_zone')"
   ]
  },
  {
   "cell_type": "code",
   "execution_count": 36,
   "metadata": {},
   "outputs": [],
   "source": [
    "complaints['constr_permits'] = 0"
   ]
  },
  {
   "cell_type": "code",
   "execution_count": 49,
   "metadata": {},
   "outputs": [],
   "source": [
    "constr_cbg['JobStartDa'] = pd.to_datetime(constr_cbg['JobStartDa'])\n",
    "constr_cbg['ExpireDate'] = pd.to_datetime(constr_cbg['ExpireDate'])\n"
   ]
  },
  {
   "cell_type": "code",
   "execution_count": 58,
   "metadata": {},
   "outputs": [
    {
     "data": {
      "text/plain": [
       "('15000US360050002001', Timestamp('2018-05-11 00:00:00'))"
      ]
     },
     "execution_count": 58,
     "metadata": {},
     "output_type": "execute_result"
    }
   ],
   "source": [
    "complaints.index[1]"
   ]
  },
  {
   "cell_type": "code",
   "execution_count": 61,
   "metadata": {},
   "outputs": [
    {
     "data": {
      "text/plain": [
       "0"
      ]
     },
     "execution_count": 61,
     "metadata": {},
     "output_type": "execute_result"
    }
   ],
   "source": [
    "complaints['constr_permits'][complaints.index[2][0]][complaints.index[2][1]]"
   ]
  },
  {
   "cell_type": "raw",
   "metadata": {},
   "source": [
    "for i in complaints.index:\n",
    "    CBG = i[0]\n",
    "    timestamp = i[1]\n",
    "    for c in constr_cbg.index:\n",
    "        if constr_cbg['GEOID_Data'][c] == CBG:\n",
    "            if timestamp >= constr_cbg['JobStartDa'][c] and timestamp <= constr_cbg['ExpireDate'][c]:\n",
    "                complaints['constr_permits'][CBG][timestamp] = complaints['constr_permits'][CBG][timestamp] + 1"
   ]
  },
  {
   "cell_type": "code",
   "execution_count": null,
   "metadata": {},
   "outputs": [],
   "source": []
  }
 ],
 "metadata": {
  "kernelspec": {
   "display_name": "Python 3",
   "language": "python",
   "name": "python3"
  },
  "language_info": {
   "codemirror_mode": {
    "name": "ipython",
    "version": 3
   },
   "file_extension": ".py",
   "mimetype": "text/x-python",
   "name": "python",
   "nbconvert_exporter": "python",
   "pygments_lexer": "ipython3",
   "version": "3.7.3"
  }
 },
 "nbformat": 4,
 "nbformat_minor": 2
}
